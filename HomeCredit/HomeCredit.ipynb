{
 "cells": [
  {
   "cell_type": "code",
   "execution_count": 3,
   "metadata": {},
   "outputs": [
    {
     "name": "stdout",
     "output_type": "stream",
     "text": [
      "/Users/muneyoshiinahara/.kaggle/competitions/home-credit-default-risk\n",
      "Archive:  bureau_balance.csv.zip\n",
      "  inflating: bureau_balance.csv      \n",
      "\n",
      "Archive:  application_train.csv.zip\n",
      "  inflating: application_train.csv   \n",
      "\n",
      "Archive:  credit_card_balance.csv.zip\n",
      "  inflating: credit_card_balance.csv  \n",
      "\n",
      "Archive:  application_test.csv.zip\n",
      "  inflating: application_test.csv    \n",
      "\n",
      "Archive:  installments_payments.csv.zip\n",
      "  inflating: installments_payments.csv  \n",
      "\n",
      "Archive:  POS_CASH_balance.csv.zip\n",
      "  inflating: POS_CASH_balance.csv    \n",
      "\n",
      "Archive:  bureau.csv.zip\n",
      "  inflating: bureau.csv              \n",
      "\n",
      "Archive:  previous_application.csv.zip\n",
      "  inflating: previous_application.csv  \n",
      "\n",
      "Archive:  sample_submission.csv.zip\n",
      "  inflating: sample_submission.csv   \n",
      "\n",
      "9 archives were successfully processed.\n"
     ]
    }
   ],
   "source": [
    "#kaggle competitions download -c home-credit-default-risk\n",
    "%cd ~/.kaggle/competitions/home-credit-default-risk/\n",
    "!unzip '*.zip'"
   ]
  },
  {
   "cell_type": "code",
   "execution_count": 4,
   "metadata": {},
   "outputs": [],
   "source": [
    "# pandas and numpy for data manipulation\n",
    "import pandas as pd\n",
    "import numpy as np\n",
    "\n",
    "# automated feature engineering\n",
    "import featuretools as ft\n",
    "\n",
    "# Filter out pandas warnings\n",
    "import warnings \n",
    "warnings.filterwarnings('ignore')"
   ]
  },
  {
   "cell_type": "code",
   "execution_count": 5,
   "metadata": {},
   "outputs": [],
   "source": [
    "app_train = pd.read_csv('./application_train.csv').sort_values('SK_ID_CURR').reset_index().loc[:1000, :].drop(columns = ['index'])\n",
    "app_test = pd.read_csv('./application_test.csv').sort_values('SK_ID_CURR').reset_index().loc[:1000, :].drop(columns = ['index'])\n",
    "bureau = pd.read_csv('./bureau.csv').sort_values(['SK_ID_CURR', 'SK_ID_BUREAU']).reset_index().loc[:1000, :].drop(columns = ['index'])\n",
    "bureau_balance = pd.read_csv('./bureau_balance.csv').sort_values('SK_ID_BUREAU').reset_index().loc[:1000, :].drop(columns = ['index'])\n",
    "cash = pd.read_csv('./POS_CASH_balance.csv').sort_values(['SK_ID_CURR', 'SK_ID_PREV']).reset_index().loc[:1000, :].drop(columns = ['index'])\n",
    "credit = pd.read_csv('./credit_card_balance.csv').sort_values(['SK_ID_CURR', 'SK_ID_PREV']).reset_index().loc[:1000, :].drop(columns = ['index'])\n",
    "previous = pd.read_csv('./previous_application.csv').sort_values(['SK_ID_CURR', 'SK_ID_PREV']).reset_index().loc[:1000, :].drop(columns = ['index'])\n",
    "installments = pd.read_csv('./installments_payments.csv').sort_values(['SK_ID_CURR', 'SK_ID_PREV']).reset_index().loc[:1000, :].drop(columns = ['index'])"
   ]
  },
  {
   "cell_type": "code",
   "execution_count": 6,
   "metadata": {
    "scrolled": true
   },
   "outputs": [
    {
     "data": {
      "text/html": [
       "<div>\n",
       "<style scoped>\n",
       "    .dataframe tbody tr th:only-of-type {\n",
       "        vertical-align: middle;\n",
       "    }\n",
       "\n",
       "    .dataframe tbody tr th {\n",
       "        vertical-align: top;\n",
       "    }\n",
       "\n",
       "    .dataframe thead th {\n",
       "        text-align: right;\n",
       "    }\n",
       "</style>\n",
       "<table border=\"1\" class=\"dataframe\">\n",
       "  <thead>\n",
       "    <tr style=\"text-align: right;\">\n",
       "      <th></th>\n",
       "      <th>SK_ID_CURR</th>\n",
       "      <th>TARGET</th>\n",
       "      <th>NAME_CONTRACT_TYPE</th>\n",
       "      <th>CODE_GENDER</th>\n",
       "      <th>FLAG_OWN_CAR</th>\n",
       "      <th>FLAG_OWN_REALTY</th>\n",
       "      <th>CNT_CHILDREN</th>\n",
       "      <th>AMT_INCOME_TOTAL</th>\n",
       "      <th>AMT_CREDIT</th>\n",
       "      <th>AMT_ANNUITY</th>\n",
       "      <th>...</th>\n",
       "      <th>FLAG_DOCUMENT_18</th>\n",
       "      <th>FLAG_DOCUMENT_19</th>\n",
       "      <th>FLAG_DOCUMENT_20</th>\n",
       "      <th>FLAG_DOCUMENT_21</th>\n",
       "      <th>AMT_REQ_CREDIT_BUREAU_HOUR</th>\n",
       "      <th>AMT_REQ_CREDIT_BUREAU_DAY</th>\n",
       "      <th>AMT_REQ_CREDIT_BUREAU_WEEK</th>\n",
       "      <th>AMT_REQ_CREDIT_BUREAU_MON</th>\n",
       "      <th>AMT_REQ_CREDIT_BUREAU_QRT</th>\n",
       "      <th>AMT_REQ_CREDIT_BUREAU_YEAR</th>\n",
       "    </tr>\n",
       "  </thead>\n",
       "  <tbody>\n",
       "    <tr>\n",
       "      <th>0</th>\n",
       "      <td>100002</td>\n",
       "      <td>1</td>\n",
       "      <td>Cash loans</td>\n",
       "      <td>M</td>\n",
       "      <td>N</td>\n",
       "      <td>Y</td>\n",
       "      <td>0</td>\n",
       "      <td>202500.0</td>\n",
       "      <td>406597.5</td>\n",
       "      <td>24700.5</td>\n",
       "      <td>...</td>\n",
       "      <td>0</td>\n",
       "      <td>0</td>\n",
       "      <td>0</td>\n",
       "      <td>0</td>\n",
       "      <td>0.0</td>\n",
       "      <td>0.0</td>\n",
       "      <td>0.0</td>\n",
       "      <td>0.0</td>\n",
       "      <td>0.0</td>\n",
       "      <td>1.0</td>\n",
       "    </tr>\n",
       "    <tr>\n",
       "      <th>1</th>\n",
       "      <td>100003</td>\n",
       "      <td>0</td>\n",
       "      <td>Cash loans</td>\n",
       "      <td>F</td>\n",
       "      <td>N</td>\n",
       "      <td>N</td>\n",
       "      <td>0</td>\n",
       "      <td>270000.0</td>\n",
       "      <td>1293502.5</td>\n",
       "      <td>35698.5</td>\n",
       "      <td>...</td>\n",
       "      <td>0</td>\n",
       "      <td>0</td>\n",
       "      <td>0</td>\n",
       "      <td>0</td>\n",
       "      <td>0.0</td>\n",
       "      <td>0.0</td>\n",
       "      <td>0.0</td>\n",
       "      <td>0.0</td>\n",
       "      <td>0.0</td>\n",
       "      <td>0.0</td>\n",
       "    </tr>\n",
       "    <tr>\n",
       "      <th>2</th>\n",
       "      <td>100004</td>\n",
       "      <td>0</td>\n",
       "      <td>Revolving loans</td>\n",
       "      <td>M</td>\n",
       "      <td>Y</td>\n",
       "      <td>Y</td>\n",
       "      <td>0</td>\n",
       "      <td>67500.0</td>\n",
       "      <td>135000.0</td>\n",
       "      <td>6750.0</td>\n",
       "      <td>...</td>\n",
       "      <td>0</td>\n",
       "      <td>0</td>\n",
       "      <td>0</td>\n",
       "      <td>0</td>\n",
       "      <td>0.0</td>\n",
       "      <td>0.0</td>\n",
       "      <td>0.0</td>\n",
       "      <td>0.0</td>\n",
       "      <td>0.0</td>\n",
       "      <td>0.0</td>\n",
       "    </tr>\n",
       "  </tbody>\n",
       "</table>\n",
       "<p>3 rows × 122 columns</p>\n",
       "</div>"
      ],
      "text/plain": [
       "   SK_ID_CURR  TARGET NAME_CONTRACT_TYPE CODE_GENDER FLAG_OWN_CAR  \\\n",
       "0      100002       1         Cash loans           M            N   \n",
       "1      100003       0         Cash loans           F            N   \n",
       "2      100004       0    Revolving loans           M            Y   \n",
       "\n",
       "  FLAG_OWN_REALTY  CNT_CHILDREN  AMT_INCOME_TOTAL  AMT_CREDIT  AMT_ANNUITY  \\\n",
       "0               Y             0          202500.0    406597.5      24700.5   \n",
       "1               N             0          270000.0   1293502.5      35698.5   \n",
       "2               Y             0           67500.0    135000.0       6750.0   \n",
       "\n",
       "              ...              FLAG_DOCUMENT_18 FLAG_DOCUMENT_19  \\\n",
       "0             ...                             0                0   \n",
       "1             ...                             0                0   \n",
       "2             ...                             0                0   \n",
       "\n",
       "  FLAG_DOCUMENT_20 FLAG_DOCUMENT_21 AMT_REQ_CREDIT_BUREAU_HOUR  \\\n",
       "0                0                0                        0.0   \n",
       "1                0                0                        0.0   \n",
       "2                0                0                        0.0   \n",
       "\n",
       "  AMT_REQ_CREDIT_BUREAU_DAY  AMT_REQ_CREDIT_BUREAU_WEEK  \\\n",
       "0                       0.0                         0.0   \n",
       "1                       0.0                         0.0   \n",
       "2                       0.0                         0.0   \n",
       "\n",
       "   AMT_REQ_CREDIT_BUREAU_MON  AMT_REQ_CREDIT_BUREAU_QRT  \\\n",
       "0                        0.0                        0.0   \n",
       "1                        0.0                        0.0   \n",
       "2                        0.0                        0.0   \n",
       "\n",
       "   AMT_REQ_CREDIT_BUREAU_YEAR  \n",
       "0                         1.0  \n",
       "1                         0.0  \n",
       "2                         0.0  \n",
       "\n",
       "[3 rows x 122 columns]"
      ]
     },
     "execution_count": 6,
     "metadata": {},
     "output_type": "execute_result"
    }
   ],
   "source": [
    "app_train[0:3]"
   ]
  },
  {
   "cell_type": "code",
   "execution_count": 7,
   "metadata": {},
   "outputs": [
    {
     "name": "stdout",
     "output_type": "stream",
     "text": [
      "Number of boolean variables:  33\n"
     ]
    }
   ],
   "source": [
    "app_types = {}\n",
    "# Iterate through the columns and record the Boolean columns\n",
    "for col in app_train:\n",
    "    # If column is a number with only two values, encode it as a Boolean\n",
    "    if (app_train[col].dtype != 'object') and (len(app_train[col].unique()) <= 2):\n",
    "        app_types[col] = ft.variable_types.Boolean\n",
    "print('Number of boolean variables: ', len(app_types))"
   ]
  },
  {
   "cell_type": "code",
   "execution_count": 8,
   "metadata": {},
   "outputs": [
    {
     "data": {
      "text/plain": [
       "{'FLAG_CONT_MOBILE': featuretools.variable_types.variable.Boolean,\n",
       " 'FLAG_DOCUMENT_10': featuretools.variable_types.variable.Boolean,\n",
       " 'FLAG_DOCUMENT_11': featuretools.variable_types.variable.Boolean,\n",
       " 'FLAG_DOCUMENT_12': featuretools.variable_types.variable.Boolean,\n",
       " 'FLAG_DOCUMENT_13': featuretools.variable_types.variable.Boolean,\n",
       " 'FLAG_DOCUMENT_14': featuretools.variable_types.variable.Boolean,\n",
       " 'FLAG_DOCUMENT_15': featuretools.variable_types.variable.Boolean,\n",
       " 'FLAG_DOCUMENT_16': featuretools.variable_types.variable.Boolean,\n",
       " 'FLAG_DOCUMENT_17': featuretools.variable_types.variable.Boolean,\n",
       " 'FLAG_DOCUMENT_18': featuretools.variable_types.variable.Boolean,\n",
       " 'FLAG_DOCUMENT_19': featuretools.variable_types.variable.Boolean,\n",
       " 'FLAG_DOCUMENT_2': featuretools.variable_types.variable.Boolean,\n",
       " 'FLAG_DOCUMENT_20': featuretools.variable_types.variable.Boolean,\n",
       " 'FLAG_DOCUMENT_21': featuretools.variable_types.variable.Boolean,\n",
       " 'FLAG_DOCUMENT_3': featuretools.variable_types.variable.Boolean,\n",
       " 'FLAG_DOCUMENT_4': featuretools.variable_types.variable.Boolean,\n",
       " 'FLAG_DOCUMENT_5': featuretools.variable_types.variable.Boolean,\n",
       " 'FLAG_DOCUMENT_6': featuretools.variable_types.variable.Boolean,\n",
       " 'FLAG_DOCUMENT_7': featuretools.variable_types.variable.Boolean,\n",
       " 'FLAG_DOCUMENT_8': featuretools.variable_types.variable.Boolean,\n",
       " 'FLAG_DOCUMENT_9': featuretools.variable_types.variable.Boolean,\n",
       " 'FLAG_EMAIL': featuretools.variable_types.variable.Boolean,\n",
       " 'FLAG_EMP_PHONE': featuretools.variable_types.variable.Boolean,\n",
       " 'FLAG_MOBIL': featuretools.variable_types.variable.Boolean,\n",
       " 'FLAG_PHONE': featuretools.variable_types.variable.Boolean,\n",
       " 'FLAG_WORK_PHONE': featuretools.variable_types.variable.Boolean,\n",
       " 'LIVE_CITY_NOT_WORK_CITY': featuretools.variable_types.variable.Boolean,\n",
       " 'LIVE_REGION_NOT_WORK_REGION': featuretools.variable_types.variable.Boolean,\n",
       " 'REG_CITY_NOT_LIVE_CITY': featuretools.variable_types.variable.Boolean,\n",
       " 'REG_CITY_NOT_WORK_CITY': featuretools.variable_types.variable.Boolean,\n",
       " 'REG_REGION_NOT_LIVE_REGION': featuretools.variable_types.variable.Boolean,\n",
       " 'REG_REGION_NOT_WORK_REGION': featuretools.variable_types.variable.Boolean,\n",
       " 'TARGET': featuretools.variable_types.variable.Boolean}"
      ]
     },
     "execution_count": 8,
     "metadata": {},
     "output_type": "execute_result"
    }
   ],
   "source": [
    "app_types"
   ]
  },
  {
   "cell_type": "code",
   "execution_count": null,
   "metadata": {},
   "outputs": [],
   "source": [
    "# Record ordinal variables\n",
    "app_types['REGION_RATING_CLIENT'] = ft.variable_types.Ordinal\n",
    "app_types['REGION_RATING_CLIENT_W_CITY'] = ft.variable_types.Ordinal\n",
    "app_test_types = app_types.copy()\n",
    "del app_test_types['TARGET']"
   ]
  },
  {
   "cell_type": "code",
   "execution_count": null,
   "metadata": {},
   "outputs": [],
   "source": []
  }
 ],
 "metadata": {
  "kernelspec": {
   "display_name": "Python 3",
   "language": "python",
   "name": "python3"
  },
  "language_info": {
   "codemirror_mode": {
    "name": "ipython",
    "version": 3
   },
   "file_extension": ".py",
   "mimetype": "text/x-python",
   "name": "python",
   "nbconvert_exporter": "python",
   "pygments_lexer": "ipython3",
   "version": "3.6.4"
  }
 },
 "nbformat": 4,
 "nbformat_minor": 2
}
